{
 "cells": [
  {
   "cell_type": "code",
   "execution_count": 1,
   "id": "f61c321e-485f-4201-887f-37d529c3c44c",
   "metadata": {},
   "outputs": [],
   "source": [
    "import random\n",
    "\n",
    "import numpy as np\n",
    "\n",
    "from poker_ai.games.short_deck.state import new_game, ShortDeckPokerState"
   ]
  },
  {
   "cell_type": "code",
   "execution_count": 18,
   "id": "be875632-6373-4334-91d2-7720941f6381",
   "metadata": {},
   "outputs": [],
   "source": [
    "def player_to_str(player, name, hidden=True):\n",
    "    chunks = []\n",
    "    turn_char = \" \"\n",
    "    if player.is_turn:\n",
    "        turn_char = \"*\"\n",
    "    chunks.append(f\"[{name:^10}]{turn_char}\")\n",
    "    if hidden:\n",
    "        chunks.append(\"CARD: [--][--]\")\n",
    "    else:\n",
    "        chunks.append(\"CARD: \" + \"\".join([card.to_pretty() for card in player.cards]))\n",
    "    chunks.append(f\"POT: {player.n_bet_chips:>6}\")\n",
    "    chunks.append(f\"BANK: {player.n_chips:>6}\")\n",
    "    if player.is_small_blind:\n",
    "        chunks.append(\"<SMALL BLIND>\")\n",
    "    if player.is_big_blind:\n",
    "        chunks.append(\"<BIG BLIND>\")\n",
    "    if player.is_dealer:\n",
    "        chunks.append(\"<BIG BLIND>\")\n",
    "    if not player.is_active:\n",
    "        chunks.append(\"<FOLDED>\")\n",
    "    return \" \".join(chunks)\n",
    "\n",
    "def player_to_dict(player, name, hidden=True):\n",
    "    return {\n",
    "        \"name\": name,\n",
    "        \"folded\": not player.is_active,\n",
    "        \"is_turn\": player.is_turn,\n",
    "        \"cards\": None if hidden else [card.to_pair() for card in player.cards],\n",
    "        \"pot\": player.n_bet_chips,\n",
    "        \"bank\": player.n_chips,\n",
    "        \"is_small_blind\": player.is_small_blind,\n",
    "        \"is_big_blind\": player.is_big_blind,\n",
    "        \"is_dealer\": player.is_dealer,\n",
    "    }\n",
    "\n",
    "def state_to_str(state, names, client_player_name):\n",
    "    lines = []\n",
    "    lines.append(\"[TABLE] \" + \"\".join([card.to_pretty() for card in state.community_cards]))\n",
    "    lines.append(f\"[POT] {state._table.pot.total}\")\n",
    "    lines.append(\"----------------\")\n",
    "    for player, name in zip(state.players, names):\n",
    "        is_client = player.name == client_player_name\n",
    "        hidden = not state.is_terminal and not is_client\n",
    "        lines.append(player_to_str(player, name, hidden=(not is_client)))\n",
    "    return \"\\n\".join(lines)\n",
    "\n",
    "def state_to_dict(state, names, client_player_name):\n",
    "    players = []\n",
    "    for player, name in zip(state.players, names):\n",
    "        is_client = player.name == client_player_name\n",
    "        hidden = not state.is_terminal and not is_client\n",
    "        players.append(player_to_dict(player, name, hidden=(not is_client)))\n",
    "    return {\n",
    "        \"publics\": [card.to_pair() for card in state.community_cards],\n",
    "        \"players\": players,\n",
    "        \"pot\": state._table.pot.total,\n",
    "        \"is_terminal\": state.is_terminal,\n",
    "        \"is_waiting\": is_waiting(state, client_player_name),\n",
    "        \"actions\": get_available_actions(state),\n",
    "        \"text\": state_to_str(state, names, client_player_name),\n",
    "    }\n",
    "\n",
    "def is_waiting(state, client_player_name):\n",
    "    return state.is_terminal or state.current_player.name == client_player_name\n",
    "\n",
    "def get_available_actions(state):\n",
    "    if state.is_terminal:\n",
    "        return [\"quit\", \"new\"]\n",
    "    else:\n",
    "        return state.legal_actions\n",
    "\n",
    "def calc_action(state, strategy=None):\n",
    "    if strategy is None:\n",
    "        action = random.choice(state.legal_actions)\n",
    "    else:\n",
    "        default_strategy = {action: 1 / len(state.legal_actions) for action in state.legal_actions}\n",
    "        this_state_strategy = strategy.get(state.info_set, default_strategy)\n",
    "        # Normalizing the strategy.\n",
    "        total = sum(this_state_strategy.values())\n",
    "        this_state_strategy = {\n",
    "            k: v / total for k, v in this_state_strategy.items()\n",
    "        }\n",
    "        actions = list(this_state_strategy.keys())\n",
    "        probabilties = list(this_state_strategy.values())\n",
    "        action = np.random.choice(actions, p=probabilties)\n",
    "    return action\n",
    "\n",
    "def load_strategy(startegy_path):\n",
    "    strategy_dict = joblib.load(strategy_path)\n",
    "    return strategy_dict['strategy']\n",
    "\n",
    "def load_lut(lut_path):\n",
    "    return joblib.load(lut_path)\n",
    "\n",
    "class PokerDemo:\n",
    "    def __init__(\n",
    "        self,\n",
    "        n_players=6,\n",
    "        low_card_rank=2,\n",
    "        high_card_rank=14,\n",
    "        lut=None,\n",
    "        strategy=None,\n",
    "    ):\n",
    "        # Set configurations for the game.\n",
    "        self.n_players = n_players\n",
    "        self.names = [f\"Player {i + 1}\" for i in range(n_players - 1)] + [\"You\"]\n",
    "        self.random_agent = strategy is None\n",
    "        self.strategy = strategy\n",
    "        self.lut = lut if lut is not None else {}\n",
    "        self.low_card_rank = low_card_rank\n",
    "        self.high_card_rank = high_card_rank\n",
    "\n",
    "        # Initialize the event log list.\n",
    "        self.events = []\n",
    "        self.state_dicts = []\n",
    "\n",
    "        # Initilize the game state.\n",
    "        self._init_state()\n",
    "\n",
    "        # Play until the player input is needed.\n",
    "        self.play()\n",
    "\n",
    "    def _add_event(self, action, raw_player_name=None):\n",
    "        player_name = None\n",
    "        if raw_player_name is not None:\n",
    "            player_name = self.player_name_dict[raw_player_name]\n",
    "        self.events.append({\n",
    "            \"player\": player_name,\n",
    "            \"action\": action,\n",
    "        })\n",
    "        self.state_dicts.append(\n",
    "            state_to_dict(self.state, self.names, self.client_player_name),\n",
    "        )\n",
    "\n",
    "    def _init_state(self):\n",
    "        include_Ranks = list(range(self.low_card_rank, self.high_card_rank + 1))\n",
    "        self.state = new_game(\n",
    "            self.n_players,\n",
    "            self.lut,\n",
    "            load_card_lut=False,\n",
    "            include_ranks=include_ranks,\n",
    "        )\n",
    "        self.player_name_dict = {\n",
    "            player.name: name\n",
    "            for player, name in zip(self.state.players, self.names)\n",
    "        }\n",
    "        self.client_player_name = self.state.players[-1].name\n",
    "        self._add_event(\"new\")\n",
    "\n",
    "    def _apply_action(self, action):\n",
    "        raw_player_name = self.state.current_player.name\n",
    "        self.state = self.state.apply_action(action)\n",
    "        self._add_event(action, raw_player_name)\n",
    "\n",
    "    def _calc_action_and_play(self):\n",
    "        action = calc_action(self.state, self.strategy)\n",
    "        self._apply_action(action)\n",
    "\n",
    "    def read_events(self):\n",
    "        event_dicts = []\n",
    "        for event, state_dict in zip(self.events, self.state_dicts):\n",
    "            event_dicts.append({\n",
    "                \"player\": event[\"player\"],\n",
    "                \"action\": event[\"action\"],\n",
    "                \"state\": state_dict,\n",
    "            })\n",
    "        self.events = []\n",
    "        self.state_dicts = []\n",
    "        return event_dicts\n",
    "\n",
    "    def is_waiting(self):\n",
    "        return is_waiting(self.state, self.client_player_name)\n",
    "\n",
    "    def play(self, action=None):\n",
    "        if action is not None:\n",
    "            if not self.is_waiting():\n",
    "                raise ValueError(\"Client action is not applicable now\")\n",
    "            elif action == \"new\":\n",
    "                raise NotImplementedError\n",
    "            else:\n",
    "                self._apply_action(action)\n",
    "\n",
    "        while not self.is_waiting():\n",
    "            self._calc_action_and_play()"
   ]
  },
  {
   "cell_type": "code",
   "execution_count": 3,
   "id": "13a2929d-1961-49d5-a682-bdd4df5b06ca",
   "metadata": {},
   "outputs": [],
   "source": [
    "n_players = 6\n",
    "names = [f\"Player {i + 1}\" for i in range(5)] + [\"You\"]\n",
    "include_ranks = list(range(2, 14 + 1))\n",
    "random_agent = True"
   ]
  },
  {
   "cell_type": "code",
   "execution_count": 4,
   "id": "83f4d921-e9b3-4073-93b5-5ba1925b290b",
   "metadata": {},
   "outputs": [],
   "source": [
    "if not random_agent:\n",
    "    strategy_dict = joblib.load(strategy_path)\n",
    "    strategy = offline_strategy_dict['strategy']"
   ]
  },
  {
   "cell_type": "code",
   "execution_count": 5,
   "id": "ad08645d-733a-4bf3-b3ca-921ed2c1c19a",
   "metadata": {},
   "outputs": [
    {
     "data": {
      "text/html": [
       "<pre style=\"white-space:pre;overflow-x:auto;line-height:normal;font-family:Menlo,'DejaVu Sans Mono',consolas,'Courier New',monospace\"><span style=\"color: #7fbfbf; text-decoration-color: #7fbfbf\">[11:16:41]  </span><span style=\"color: #800000; text-decoration-color: #800000\">WARNING </span> Initializing a PokerState without a lookup table.                                 <a href=\"file:///Users/jeongmin/Workspace/pluribus-poker-AI/poker_ai/games/short_deck/state.py\" target=\"_blank\"><span style=\"color: #7f7f7f; text-decoration-color: #7f7f7f\">state.py</span></a><span style=\"color: #7f7f7f; text-decoration-color: #7f7f7f\">:</span><a href=\"file:///Users/jeongmin/Workspace/pluribus-poker-AI/poker_ai/games/short_deck/state.py#100\" target=\"_blank\"><span style=\"color: #7f7f7f; text-decoration-color: #7f7f7f\">100</span></a>\n",
       "</pre>\n"
      ],
      "text/plain": [
       "\u001b[2;36m[11:16:41] \u001b[0m\u001b[2;36m \u001b[0m\u001b[31mWARNING \u001b[0m Initializing a PokerState without a lookup table.                                 \u001b]8;id=435490;file:///Users/jeongmin/Workspace/pluribus-poker-AI/poker_ai/games/short_deck/state.py\u001b\\\u001b[2mstate.py\u001b[0m\u001b]8;;\u001b\\\u001b[2m:\u001b[0m\u001b]8;id=359421;file:///Users/jeongmin/Workspace/pluribus-poker-AI/poker_ai/games/short_deck/state.py#100\u001b\\\u001b[2m100\u001b[0m\u001b]8;;\u001b\\\n"
      ]
     },
     "metadata": {},
     "output_type": "display_data"
    }
   ],
   "source": [
    "state = new_game(\n",
    "    n_players,\n",
    "    {},\n",
    "    load_card_lut=False,\n",
    "    include_ranks=include_ranks,\n",
    ")"
   ]
  },
  {
   "cell_type": "code",
   "execution_count": 6,
   "id": "5a334d6e-0aca-48b2-b910-826ac532613a",
   "metadata": {},
   "outputs": [
    {
     "name": "stdout",
     "output_type": "stream",
     "text": [
      "player_5\n"
     ]
    }
   ],
   "source": [
    "client_player_name = state.players[-1].name\n",
    "print(client_player_name)"
   ]
  },
  {
   "cell_type": "code",
   "execution_count": 7,
   "id": "1076608d-8c3e-4d9f-b413-d5d736e81255",
   "metadata": {},
   "outputs": [
    {
     "name": "stdout",
     "output_type": "stream",
     "text": [
      "0 <Player name=\"player_0\" n_chips=09950 n_bet_chips=00050 folded=0>\n",
      "1 <Player name=\"player_1\" n_chips=09900 n_bet_chips=00100 folded=0>\n",
      "2 <Player name=\"player_2\" n_chips=10000 n_bet_chips=00000 folded=0>\n",
      "3 <Player name=\"player_3\" n_chips=10000 n_bet_chips=00000 folded=0>\n",
      "4 <Player name=\"player_4\" n_chips=10000 n_bet_chips=00000 folded=0>\n",
      "5 <Player name=\"player_5\" n_chips=10000 n_bet_chips=00000 folded=0>\n"
     ]
    }
   ],
   "source": [
    "for player_i, player in enumerate(state.players):\n",
    "    print(player_i, player)"
   ]
  },
  {
   "cell_type": "code",
   "execution_count": 8,
   "id": "60163aff-0554-4fa8-a3d4-a402edbbc619",
   "metadata": {},
   "outputs": [
    {
     "data": {
      "text/plain": [
       "'{\"cards_cluster\":1,\"history\":[]}'"
      ]
     },
     "execution_count": 8,
     "metadata": {},
     "output_type": "execute_result"
    }
   ],
   "source": [
    "state.info_set"
   ]
  },
  {
   "cell_type": "code",
   "execution_count": 9,
   "id": "75e57a91-4ff0-4e74-98b5-6b9c05483c5e",
   "metadata": {},
   "outputs": [],
   "source": [
    "if state.is_terminal:\n",
    "    legal_actions = [\"quit\", \"new game\"]\n",
    "elif state.current_player.name == client_player_name:\n",
    "    legal_actions = state.legal_actions\n",
    "else:\n",
    "    legal_actions = []\n",
    "#state.apply_action(action)"
   ]
  },
  {
   "cell_type": "code",
   "execution_count": 10,
   "id": "9943e27c-3928-4d1c-9294-191aedfbc345",
   "metadata": {},
   "outputs": [
    {
     "data": {
      "text/plain": [
       "'player_2'"
      ]
     },
     "execution_count": 10,
     "metadata": {},
     "output_type": "execute_result"
    }
   ],
   "source": [
    "state.current_player.name"
   ]
  },
  {
   "cell_type": "code",
   "execution_count": 11,
   "id": "94f510ef-08a8-4a24-b0b1-7a46a8622f57",
   "metadata": {},
   "outputs": [
    {
     "data": {
      "text/plain": [
       "<ShortDeckPokerState player_i=3 betting_stage=pre_flop>"
      ]
     },
     "execution_count": 11,
     "metadata": {},
     "output_type": "execute_result"
    }
   ],
   "source": [
    "if random_agent:\n",
    "    action = random.choice(state.legal_actions)\n",
    "else:\n",
    "    default_strategy = {action: 1 / len(state.legal_actions) for action in state.legal_actions}\n",
    "    this_state_strategy = strategy.get(state.info_set, default_strategy)\n",
    "    # Normalizing the strategy.\n",
    "    total = sum(this_state_strategy.values())\n",
    "    this_state_strategy = {\n",
    "        k: v / total for k, v in this_state_strategy.items()\n",
    "    }\n",
    "    actions = list(this_state_strategy.keys())\n",
    "    probabilties = list(this_state_strategy.values())\n",
    "    action = np.random.choice(actions, p=probabilties)\n",
    "\n",
    "state.apply_action(action)"
   ]
  },
  {
   "cell_type": "code",
   "execution_count": null,
   "id": "493a1ece-a441-43cb-b67a-ed66418b7ca6",
   "metadata": {},
   "outputs": [],
   "source": []
  },
  {
   "cell_type": "code",
   "execution_count": 12,
   "id": "0fc9ece9-cca5-479e-8113-353d726c8d5e",
   "metadata": {},
   "outputs": [
    {
     "name": "stdout",
     "output_type": "stream",
     "text": [
      "[TABLE] \n",
      "----------------\n",
      "[ Player 1 ] CARD: [--][--] POT:     50 BANK:   9950 <SMALL BLIND>\n",
      "[ Player 2 ] CARD: [--][--] POT:    100 BANK:   9900 <BIG BLIND>\n",
      "[ Player 3 ] CARD: [--][--] POT:      0 BANK:  10000\n",
      "[ Player 4 ] CARD: [--][--] POT:      0 BANK:  10000\n",
      "[ Player 5 ] CARD: [--][--] POT:      0 BANK:  10000\n",
      "[   You    ] CARD: [♦10][♣9] POT:      0 BANK:  10000 <BIG BLIND>\n"
     ]
    }
   ],
   "source": [
    "print(state_to_str(state, names, client_player_name))"
   ]
  },
  {
   "cell_type": "code",
   "execution_count": 13,
   "id": "d36231ee-dd63-4e29-aacc-368c89186c51",
   "metadata": {},
   "outputs": [
    {
     "data": {
      "text/plain": [
       "[]"
      ]
     },
     "execution_count": 13,
     "metadata": {},
     "output_type": "execute_result"
    }
   ],
   "source": [
    "state.community_cards"
   ]
  },
  {
   "cell_type": "code",
   "execution_count": 19,
   "id": "67209a69-6389-4cc0-b174-38e78f876f3d",
   "metadata": {},
   "outputs": [
    {
     "data": {
      "text/html": [
       "<pre style=\"white-space:pre;overflow-x:auto;line-height:normal;font-family:Menlo,'DejaVu Sans Mono',consolas,'Courier New',monospace\"><span style=\"color: #7fbfbf; text-decoration-color: #7fbfbf\">[11:23:34]  </span><span style=\"color: #800000; text-decoration-color: #800000\">WARNING </span> Initializing a PokerState without a lookup table.                                 <a href=\"file:///Users/jeongmin/Workspace/pluribus-poker-AI/poker_ai/games/short_deck/state.py\" target=\"_blank\"><span style=\"color: #7f7f7f; text-decoration-color: #7f7f7f\">state.py</span></a><span style=\"color: #7f7f7f; text-decoration-color: #7f7f7f\">:</span><a href=\"file:///Users/jeongmin/Workspace/pluribus-poker-AI/poker_ai/games/short_deck/state.py#100\" target=\"_blank\"><span style=\"color: #7f7f7f; text-decoration-color: #7f7f7f\">100</span></a>\n",
       "</pre>\n"
      ],
      "text/plain": [
       "\u001b[2;36m[11:23:34] \u001b[0m\u001b[2;36m \u001b[0m\u001b[31mWARNING \u001b[0m Initializing a PokerState without a lookup table.                                 \u001b]8;id=997197;file:///Users/jeongmin/Workspace/pluribus-poker-AI/poker_ai/games/short_deck/state.py\u001b\\\u001b[2mstate.py\u001b[0m\u001b]8;;\u001b\\\u001b[2m:\u001b[0m\u001b]8;id=439037;file:///Users/jeongmin/Workspace/pluribus-poker-AI/poker_ai/games/short_deck/state.py#100\u001b\\\u001b[2m100\u001b[0m\u001b]8;;\u001b\\\n"
      ]
     },
     "metadata": {},
     "output_type": "display_data"
    },
    {
     "name": "stdout",
     "output_type": "stream",
     "text": [
      "[System] new\n",
      "[TABLE] \n",
      "[POT] 150\n",
      "----------------\n",
      "[ Player 1 ]  CARD: [--][--] POT:     50 BANK:   9950 <SMALL BLIND>\n",
      "[ Player 2 ]  CARD: [--][--] POT:    100 BANK:   9900 <BIG BLIND>\n",
      "[ Player 3 ]* CARD: [--][--] POT:      0 BANK:  10000\n",
      "[ Player 4 ]  CARD: [--][--] POT:      0 BANK:  10000\n",
      "[ Player 5 ]  CARD: [--][--] POT:      0 BANK:  10000\n",
      "[   You    ]  CARD: [♠2][♦4] POT:      0 BANK:  10000 <BIG BLIND>\n",
      "==========\n",
      "[Player 3] fold\n",
      "[TABLE] \n",
      "[POT] 150\n",
      "----------------\n",
      "[ Player 1 ]  CARD: [--][--] POT:     50 BANK:   9950 <SMALL BLIND>\n",
      "[ Player 2 ]  CARD: [--][--] POT:    100 BANK:   9900 <BIG BLIND>\n",
      "[ Player 3 ]  CARD: [--][--] POT:      0 BANK:  10000 <FOLDED>\n",
      "[ Player 4 ]* CARD: [--][--] POT:      0 BANK:  10000\n",
      "[ Player 5 ]  CARD: [--][--] POT:      0 BANK:  10000\n",
      "[   You    ]  CARD: [♠2][♦4] POT:      0 BANK:  10000 <BIG BLIND>\n",
      "==========\n",
      "[Player 4] call\n",
      "[TABLE] \n",
      "[POT] 250\n",
      "----------------\n",
      "[ Player 1 ]  CARD: [--][--] POT:     50 BANK:   9950 <SMALL BLIND>\n",
      "[ Player 2 ]  CARD: [--][--] POT:    100 BANK:   9900 <BIG BLIND>\n",
      "[ Player 3 ]  CARD: [--][--] POT:      0 BANK:  10000 <FOLDED>\n",
      "[ Player 4 ]  CARD: [--][--] POT:    100 BANK:   9900\n",
      "[ Player 5 ]* CARD: [--][--] POT:      0 BANK:  10000\n",
      "[   You    ]  CARD: [♠2][♦4] POT:      0 BANK:  10000 <BIG BLIND>\n",
      "==========\n",
      "[Player 5] fold\n",
      "[TABLE] \n",
      "[POT] 250\n",
      "----------------\n",
      "[ Player 1 ]  CARD: [--][--] POT:     50 BANK:   9950 <SMALL BLIND>\n",
      "[ Player 2 ]  CARD: [--][--] POT:    100 BANK:   9900 <BIG BLIND>\n",
      "[ Player 3 ]  CARD: [--][--] POT:      0 BANK:  10000 <FOLDED>\n",
      "[ Player 4 ]  CARD: [--][--] POT:    100 BANK:   9900\n",
      "[ Player 5 ]  CARD: [--][--] POT:      0 BANK:  10000 <FOLDED>\n",
      "[   You    ]* CARD: [♠2][♦4] POT:      0 BANK:  10000 <BIG BLIND>\n",
      "==========\n"
     ]
    },
    {
     "name": "stdin",
     "output_type": "stream",
     "text": [
      "Action? (fold/call/raise)  call\n"
     ]
    },
    {
     "name": "stdout",
     "output_type": "stream",
     "text": [
      "[You] call\n",
      "[TABLE] \n",
      "[POT] 350\n",
      "----------------\n",
      "[ Player 1 ]* CARD: [--][--] POT:     50 BANK:   9950 <SMALL BLIND>\n",
      "[ Player 2 ]  CARD: [--][--] POT:    100 BANK:   9900 <BIG BLIND>\n",
      "[ Player 3 ]  CARD: [--][--] POT:      0 BANK:  10000 <FOLDED>\n",
      "[ Player 4 ]  CARD: [--][--] POT:    100 BANK:   9900\n",
      "[ Player 5 ]  CARD: [--][--] POT:      0 BANK:  10000 <FOLDED>\n",
      "[   You    ]  CARD: [♠2][♦4] POT:    100 BANK:   9900 <BIG BLIND>\n",
      "==========\n",
      "[Player 1] fold\n",
      "[TABLE] \n",
      "[POT] 350\n",
      "----------------\n",
      "[ Player 1 ]  CARD: [--][--] POT:     50 BANK:   9950 <SMALL BLIND> <FOLDED>\n",
      "[ Player 2 ]* CARD: [--][--] POT:    100 BANK:   9900 <BIG BLIND>\n",
      "[ Player 3 ]  CARD: [--][--] POT:      0 BANK:  10000 <FOLDED>\n",
      "[ Player 4 ]  CARD: [--][--] POT:    100 BANK:   9900\n",
      "[ Player 5 ]  CARD: [--][--] POT:      0 BANK:  10000 <FOLDED>\n",
      "[   You    ]  CARD: [♠2][♦4] POT:    100 BANK:   9900 <BIG BLIND>\n",
      "==========\n",
      "[Player 2] fold\n",
      "[TABLE] [♣9][♣K][♣A]\n",
      "[POT] 350\n",
      "----------------\n",
      "[ Player 1 ]  CARD: [--][--] POT:     50 BANK:   9950 <SMALL BLIND> <FOLDED>\n",
      "[ Player 2 ]  CARD: [--][--] POT:    100 BANK:   9900 <BIG BLIND> <FOLDED>\n",
      "[ Player 3 ]  CARD: [--][--] POT:      0 BANK:  10000 <FOLDED>\n",
      "[ Player 4 ]* CARD: [--][--] POT:    100 BANK:   9900\n",
      "[ Player 5 ]  CARD: [--][--] POT:      0 BANK:  10000 <FOLDED>\n",
      "[   You    ]  CARD: [♠2][♦4] POT:    100 BANK:   9900 <BIG BLIND>\n",
      "==========\n",
      "[Player 4] call\n",
      "[TABLE] [♣9][♣K][♣A]\n",
      "[POT] 350\n",
      "----------------\n",
      "[ Player 1 ]  CARD: [--][--] POT:     50 BANK:   9950 <SMALL BLIND> <FOLDED>\n",
      "[ Player 2 ]  CARD: [--][--] POT:    100 BANK:   9900 <BIG BLIND> <FOLDED>\n",
      "[ Player 3 ]  CARD: [--][--] POT:      0 BANK:  10000 <FOLDED>\n",
      "[ Player 4 ]  CARD: [--][--] POT:    100 BANK:   9900\n",
      "[ Player 5 ]  CARD: [--][--] POT:      0 BANK:  10000 <FOLDED>\n",
      "[   You    ]* CARD: [♠2][♦4] POT:    100 BANK:   9900 <BIG BLIND>\n",
      "==========\n"
     ]
    },
    {
     "name": "stdin",
     "output_type": "stream",
     "text": [
      "Action? (fold/call/raise)  fold\n"
     ]
    },
    {
     "name": "stdout",
     "output_type": "stream",
     "text": [
      "[You] fold\n",
      "[TABLE] [♣9][♣K][♣A][♦A]\n",
      "[POT] 0\n",
      "----------------\n",
      "[ Player 1 ]  CARD: [--][--] POT:      0 BANK:   9950 <SMALL BLIND> <FOLDED>\n",
      "[ Player 2 ]  CARD: [--][--] POT:      0 BANK:   9900 <BIG BLIND> <FOLDED>\n",
      "[ Player 3 ]  CARD: [--][--] POT:      0 BANK:  10000 <FOLDED>\n",
      "[ Player 4 ]* CARD: [--][--] POT:      0 BANK:  10250\n",
      "[ Player 5 ]  CARD: [--][--] POT:      0 BANK:  10000 <FOLDED>\n",
      "[   You    ]  CARD: [♠2][♦4] POT:      0 BANK:   9900 <BIG BLIND> <FOLDED>\n",
      "==========\n"
     ]
    },
    {
     "name": "stdin",
     "output_type": "stream",
     "text": [
      "Action? (quit/new)  new\n"
     ]
    },
    {
     "ename": "NotImplementedError",
     "evalue": "",
     "output_type": "error",
     "traceback": [
      "\u001b[0;31m---------------------------------------------------------------------------\u001b[0m",
      "\u001b[0;31mNotImplementedError\u001b[0m                       Traceback (most recent call last)",
      "Cell \u001b[0;32mIn[19], line 14\u001b[0m\n\u001b[1;32m     12\u001b[0m \u001b[38;5;28;01mif\u001b[39;00m action \u001b[38;5;241m==\u001b[39m \u001b[38;5;124m\"\u001b[39m\u001b[38;5;124mquit\u001b[39m\u001b[38;5;124m\"\u001b[39m:\n\u001b[1;32m     13\u001b[0m     \u001b[38;5;28;01mbreak\u001b[39;00m\n\u001b[0;32m---> 14\u001b[0m \u001b[43mdemo\u001b[49m\u001b[38;5;241;43m.\u001b[39;49m\u001b[43mplay\u001b[49m\u001b[43m(\u001b[49m\u001b[43maction\u001b[49m\u001b[43m)\u001b[49m\n",
      "Cell \u001b[0;32mIn[18], line 179\u001b[0m, in \u001b[0;36mPokerDemo.play\u001b[0;34m(self, action)\u001b[0m\n\u001b[1;32m    177\u001b[0m     \u001b[38;5;28;01mraise\u001b[39;00m \u001b[38;5;167;01mValueError\u001b[39;00m(\u001b[38;5;124m\"\u001b[39m\u001b[38;5;124mClient action is not applicable now\u001b[39m\u001b[38;5;124m\"\u001b[39m)\n\u001b[1;32m    178\u001b[0m \u001b[38;5;28;01melif\u001b[39;00m action \u001b[38;5;241m==\u001b[39m \u001b[38;5;124m\"\u001b[39m\u001b[38;5;124mnew\u001b[39m\u001b[38;5;124m\"\u001b[39m:\n\u001b[0;32m--> 179\u001b[0m     \u001b[38;5;28;01mraise\u001b[39;00m \u001b[38;5;167;01mNotImplementedError\u001b[39;00m\n\u001b[1;32m    180\u001b[0m \u001b[38;5;28;01melse\u001b[39;00m:\n\u001b[1;32m    181\u001b[0m     \u001b[38;5;28mself\u001b[39m\u001b[38;5;241m.\u001b[39m_apply_action(action)\n",
      "\u001b[0;31mNotImplementedError\u001b[0m: "
     ]
    }
   ],
   "source": [
    "demo = PokerDemo()\n",
    "while True:\n",
    "    events = demo.read_events()\n",
    "    for event in events:\n",
    "        event_player = event[\"player\"] or \"System\"\n",
    "        event_action = event[\"action\"]\n",
    "        print(f\"[{event_player}] {event_action}\")\n",
    "        print(event[\"state\"][\"text\"])\n",
    "        print(\"=\" * 10)\n",
    "    actions = \"/\".join(events[-1][\"state\"][\"actions\"])\n",
    "    action = input(f\"Action? ({actions}) \")\n",
    "    if action == \"quit\":\n",
    "        break\n",
    "    demo.play(action)"
   ]
  },
  {
   "cell_type": "code",
   "execution_count": null,
   "id": "85858f86-12b1-40e9-9078-d8f1fb0c8149",
   "metadata": {},
   "outputs": [],
   "source": []
  }
 ],
 "metadata": {
  "kernelspec": {
   "display_name": "Python 3 (ipykernel)",
   "language": "python",
   "name": "python3"
  },
  "language_info": {
   "codemirror_mode": {
    "name": "ipython",
    "version": 3
   },
   "file_extension": ".py",
   "mimetype": "text/x-python",
   "name": "python",
   "nbconvert_exporter": "python",
   "pygments_lexer": "ipython3",
   "version": "3.10.2"
  }
 },
 "nbformat": 4,
 "nbformat_minor": 5
}
