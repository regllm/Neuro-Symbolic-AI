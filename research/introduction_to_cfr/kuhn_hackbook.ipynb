{
 "cells": [
  {
   "cell_type": "code",
   "execution_count": null,
   "metadata": {},
   "outputs": [],
   "source": [
    "\"\"\"\n",
    "Rules:\n",
    "* Each player \n",
    "\"\"\"\n",
    "\n",
    "\n",
    "class State:\n",
    "    \n",
    "    @property\n",
    "    def is_terminal(self):\n",
    "        \"\"\"\"\"\"\n",
    "        return False\n",
    "    \n",
    "    @property\n",
    "    def is_chance(self):\n",
    "        \"\"\"\"\"\"\n",
    "        return False\n",
    "    \n",
    "    def sample_action(self):\n",
    "        pass\n",
    "    \n",
    "    def apply_action(self, action):\n",
    "        pass\n",
    "    \n",
    "    \n",
    "def payoff_for_terminal_states(history):\n",
    "    if len(history) <= 1:\n",
    "        raise ValueError(\"Both players have not had atleast one action.\")\n",
    "    \n",
    "    \n",
    "\n",
    "def cfr(state, ):\n",
    "    if state.is_terminal:\n",
    "        return state.utility(player)\n",
    "    else if state.is_chance:\n",
    "        action = state.sample_action()\n",
    "        new_state = state.apply_action(action)\n",
    "        cfr(new_state, )"
   ]
  }
 ],
 "metadata": {
  "kernelspec": {
   "display_name": "Python 3",
   "language": "python",
   "name": "python3"
  },
  "language_info": {
   "codemirror_mode": {
    "name": "ipython",
    "version": 3
   },
   "file_extension": ".py",
   "mimetype": "text/x-python",
   "name": "python",
   "nbconvert_exporter": "python",
   "pygments_lexer": "ipython3",
   "version": "3.7.5"
  }
 },
 "nbformat": 4,
 "nbformat_minor": 4
}
