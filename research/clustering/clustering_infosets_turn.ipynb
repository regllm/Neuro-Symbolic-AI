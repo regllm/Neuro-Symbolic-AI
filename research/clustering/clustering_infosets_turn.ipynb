{
 "cells": [
  {
   "cell_type": "code",
   "execution_count": 2,
   "metadata": {},
   "outputs": [],
   "source": [
    "import dill as pickle\n",
    "from pluribus.game.evaluation import Evaluator\n",
    "import math\n",
    "import time\n",
    "import random\n",
    "import numpy as np\n",
    "\n",
    "# maybe this implementation of EMD will be too slow..\n",
    "from scipy.stats import wasserstein_distance\n",
    "import matplotlib.pyplot as plt"
   ]
  },
  {
   "cell_type": "code",
   "execution_count": 3,
   "metadata": {},
   "outputs": [],
   "source": [
    "with open('data/ehss_river.pkl', 'rb') as file:\n",
    "    data = pickle.load(file)"
   ]
  },
  {
   "cell_type": "code",
   "execution_count": 4,
   "metadata": {},
   "outputs": [],
   "source": [
    "# original deck the river centroids were created from\n",
    "short_deck = data['short_deck']\n",
    "# speedy look up for printing\n",
    "eval_to_card = data['eval_to_card']\n",
    "# river centroids\n",
    "river_centroids = data['river_centroids']\n",
    "\n",
    "# combos - I don't think I'll need all of them\n",
    "on_flop = data['combos'][0]\n",
    "on_turn = data['combos'][1]\n",
    "on_river = data['combos'][2]\n",
    "\n",
    "# expected hand strength on the river.. don't think I'll need it..\n",
    "ehss_river = data['ehss_river'] \n",
    "evaluator = Evaluator()"
   ]
  },
  {
   "cell_type": "code",
   "execution_count": 5,
   "metadata": {},
   "outputs": [],
   "source": [
    "def ncr(n,r):\n",
    "    \"\"\"\n",
    "    helper function for calculating combination size\n",
    "    n choose r\"\"\"\n",
    "    return int(math.factorial(n)/(math.factorial(r)*math.factorial(n-r)))"
   ]
  },
  {
   "cell_type": "code",
   "execution_count": 6,
   "metadata": {},
   "outputs": [
    {
     "name": "stdout",
     "output_type": "stream",
     "text": [
      "expected turn: 12600\n"
     ]
    }
   ],
   "source": [
    "print(f'expected turn: {ncr(10,2)*ncr(8,3)*ncr(5,1)}')"
   ]
  },
  {
   "cell_type": "code",
   "execution_count": 7,
   "metadata": {},
   "outputs": [
    {
     "name": "stdout",
     "output_type": "stream",
     "text": [
      "my combos: 12600\n"
     ]
    }
   ],
   "source": [
    "print(f'my combos: {len(on_turn)}')"
   ]
  },
  {
   "cell_type": "code",
   "execution_count": 8,
   "metadata": {},
   "outputs": [],
   "source": [
    "emd = [0]*len(on_river) # stats for expected hand strengths"
   ]
  },
  {
   "cell_type": "code",
   "execution_count": 9,
   "metadata": {},
   "outputs": [],
   "source": [
    "# get data for expected hand rates on 4 card public board, not lossless"
   ]
  },
  {
   "cell_type": "code",
   "execution_count": 10,
   "metadata": {},
   "outputs": [
    {
     "name": "stdout",
     "output_type": "stream",
     "text": [
      "556.8644590377808\n"
     ]
    }
   ],
   "source": [
    "start = time.time()\n",
    "\n",
    "# object for EMD on expected of hand strength (distribution)\n",
    "ehs_distributions = []\n",
    "\n",
    "for i, public in enumerate(on_turn): \n",
    "    available_cards = [x for x in short_deck if x not in public] # this is probably not a good idea\n",
    "    random.shuffle(available_cards)\n",
    "    \n",
    "    # sample river cards and run a simulation\n",
    "    ehs_distribution = np.zeros(len(river_centroids))\n",
    "    for j in range(15):  \n",
    "                        # probably want to increase this number?\n",
    "                        # it's too small maybe for this toy problem\n",
    "\n",
    "        river_card = random.sample(available_cards, 1)\n",
    "        our_hand = list(public[:2])\n",
    "        board = public[2:6]\n",
    "        board = np.append(board, river_card).tolist()\n",
    "        # if sample with river then error (because obvi)\n",
    "        available_cards_river = [x for x in available_cards if x != river_card[0]] # oof\n",
    "        \n",
    "        our_hand_rank = evaluator.evaluate(\n",
    "            board=board, \n",
    "            cards=our_hand,\n",
    "        )\n",
    "        \n",
    "        # simulations will be run against randomly drawn opponent hands\n",
    "        ehs=[0]*3\n",
    "        for k in range(50): # will want to increase this?\n",
    "            # sample from the available cards on the river\n",
    "            opp_hand = random.sample(available_cards_river, 2)\n",
    "            \n",
    "            opp_hand_rank = evaluator.evaluate(\n",
    "                    board=board,\n",
    "                    cards=opp_hand,\n",
    "            )\n",
    "            \n",
    "            # who wins?\n",
    "            if our_hand_rank > opp_hand_rank: # maybe some mod magic here\n",
    "                idx = 0\n",
    "            elif our_hand_rank < opp_hand_rank:\n",
    "                idx = 1\n",
    "            elif our_hand_rank == opp_hand_rank:\n",
    "                idx = 2\n",
    "            \n",
    "            # increment win rate for winner\n",
    "            ehs[idx] += 1/50\n",
    "        \n",
    "        # get EMD for expected hand strength against each river centroid\n",
    "        # to which does it belong?\n",
    "        for idx, river_centroid in enumerate(river_centroids):\n",
    "            emd = wasserstein_distance(ehs, river_centroid)\n",
    "            \n",
    "            if idx == 0:\n",
    "                min_idx = idx\n",
    "                min_emd = emd\n",
    "            else:\n",
    "                if emd < min_emd:\n",
    "                    min_idx = idx\n",
    "                    min_emd = emd\n",
    "                    \n",
    "        # ok, now increment the cluster to which it belongs - \n",
    "        ehs_distribution[min_idx] += 1/15 # could also probs be just a regular old integer\n",
    "         \n",
    "    ehs_distributions.append(ehs_distribution)\n",
    "          \n",
    "end = time.time()\n",
    "print(end - start)"
   ]
  },
  {
   "cell_type": "code",
   "execution_count": 11,
   "metadata": {},
   "outputs": [
    {
     "data": {
      "text/plain": [
       "12600"
      ]
     },
     "execution_count": 11,
     "metadata": {},
     "output_type": "execute_result"
    }
   ],
   "source": [
    "len(ehs_distributions)"
   ]
  },
  {
   "cell_type": "code",
   "execution_count": 73,
   "metadata": {},
   "outputs": [],
   "source": [
    "# simple kmeans algo - should I write from scratch?\n",
    "from sklearn.cluster import KMeans\n",
    "\n",
    "X = np.array(ehs_distributions)\n",
    "\n",
    "km = KMeans(\n",
    "    n_clusters=15, init='random',\n",
    "    n_init=10, max_iter=300, \n",
    "    tol=1e-04, random_state=0\n",
    ")\n",
    "y_km = km.fit_predict(X)"
   ]
  },
  {
   "cell_type": "code",
   "execution_count": 74,
   "metadata": {},
   "outputs": [],
   "source": [
    "# centers to be used to get data for EMD\n",
    "centroids = km.cluster_centers_"
   ]
  },
  {
   "cell_type": "code",
   "execution_count": 75,
   "metadata": {},
   "outputs": [],
   "source": [
    "data = {\n",
    "    'ehs_distributions': ehs_distributions,\n",
    "    'short_deck': short_deck,\n",
    "    'combos': [on_flop, on_turn, on_river],\n",
    "    'turn_centroids': centroids,\n",
    "    'eval_to_card': eval_to_card\n",
    "}"
   ]
  },
  {
   "cell_type": "code",
   "execution_count": 76,
   "metadata": {},
   "outputs": [],
   "source": [
    "with open('data/ehs_dist_turn.pkl', 'wb') as file:\n",
    "    pickle.dump(data, file)"
   ]
  },
  {
   "cell_type": "code",
   "execution_count": 77,
   "metadata": {},
   "outputs": [],
   "source": [
    "# # to reopen\n",
    "# with open('data/ehss_river.pkl', 'rb') as file:\n",
    "#     data = pickle.load(file)"
   ]
  },
  {
   "cell_type": "code",
   "execution_count": 78,
   "metadata": {},
   "outputs": [],
   "source": [
    "compare_hands = random.sample(list(on_turn[y_km==4]), 5)"
   ]
  },
  {
   "cell_type": "code",
   "execution_count": 79,
   "metadata": {},
   "outputs": [
    {
     "name": "stdout",
     "output_type": "stream",
     "text": [
      "####Hand\n",
      "[<Card card=[ace of diamonds ♦]>, <Card card=[7 of clubs ♣]>]\n",
      "####Board\n",
      "[<Card card=[ace of spades ♠]>, <Card card=[10 of clubs ♣]>, <Card card=[10 of diamonds ♦]>, <Card card=[4 of hearts ♥]>]\n",
      "####Hand\n",
      "[<Card card=[8 of hearts ♥]>, <Card card=[7 of clubs ♣]>]\n",
      "####Board\n",
      "[<Card card=[ace of spades ♠]>, <Card card=[ace of hearts ♥]>, <Card card=[10 of clubs ♣]>, <Card card=[ace of diamonds ♦]>]\n",
      "####Hand\n",
      "[<Card card=[8 of clubs ♣]>, <Card card=[10 of diamonds ♦]>]\n",
      "####Board\n",
      "[<Card card=[ace of spades ♠]>, <Card card=[8 of hearts ♥]>, <Card card=[7 of clubs ♣]>, <Card card=[3 of spades ♠]>]\n",
      "####Hand\n",
      "[<Card card=[8 of hearts ♥]>, <Card card=[10 of diamonds ♦]>]\n",
      "####Board\n",
      "[<Card card=[ace of diamonds ♦]>, <Card card=[10 of clubs ♣]>, <Card card=[7 of clubs ♣]>, <Card card=[4 of hearts ♥]>]\n",
      "####Hand\n",
      "[<Card card=[ace of spades ♠]>, <Card card=[8 of clubs ♣]>]\n",
      "####Board\n",
      "[<Card card=[8 of hearts ♥]>, <Card card=[3 of spades ♠]>, <Card card=[10 of clubs ♣]>, <Card card=[4 of hearts ♥]>]\n"
     ]
    }
   ],
   "source": [
    "# taking a look at them\n",
    "# I think these are ones with a good chance of drawing, and maybe otherwise what?\n",
    "for games in compare_hands:\n",
    "    t = [eval_to_card[x] for x in games.tolist()[:2]]\n",
    "    print(\"####Hand\")\n",
    "    print(t)\n",
    "    t = [eval_to_card[x] for x in games.tolist()[2:]]\n",
    "    print(\"####Board\")\n",
    "    print(t)"
   ]
  },
  {
   "cell_type": "code",
   "execution_count": 80,
   "metadata": {},
   "outputs": [
    {
     "name": "stdout",
     "output_type": "stream",
     "text": [
      "[[0.13333333 0.06666667 0.         0.13333333 0.         0.\n",
      "  0.         0.         0.06666667 0.         0.2        0.06666667\n",
      "  0.06666667 0.13333333 0.13333333]\n",
      " [0.06666667 0.13333333 0.         0.33333333 0.         0.13333333\n",
      "  0.         0.         0.13333333 0.         0.06666667 0.\n",
      "  0.06666667 0.         0.06666667]\n",
      " [0.         0.         0.         0.33333333 0.         0.06666667\n",
      "  0.         0.         0.13333333 0.         0.2        0.06666667\n",
      "  0.06666667 0.06666667 0.06666667]\n",
      " [0.06666667 0.13333333 0.         0.33333333 0.         0.13333333\n",
      "  0.         0.         0.2        0.         0.06666667 0.\n",
      "  0.         0.         0.06666667]\n",
      " [0.06666667 0.06666667 0.         0.26666667 0.         0.13333333\n",
      "  0.         0.         0.         0.         0.2        0.\n",
      "  0.06666667 0.         0.2       ]\n",
      " [0.13333333 0.13333333 0.         0.2        0.         0.06666667\n",
      "  0.         0.         0.2        0.         0.13333333 0.06666667\n",
      "  0.06666667 0.         0.        ]\n",
      " [0.13333333 0.13333333 0.         0.2        0.         0.13333333\n",
      "  0.         0.         0.13333333 0.         0.13333333 0.06666667\n",
      "  0.         0.         0.06666667]\n",
      " [0.06666667 0.13333333 0.         0.26666667 0.         0.06666667\n",
      "  0.         0.         0.         0.         0.2        0.13333333\n",
      "  0.         0.         0.13333333]\n",
      " [0.06666667 0.26666667 0.         0.2        0.         0.06666667\n",
      "  0.         0.         0.06666667 0.         0.13333333 0.06666667\n",
      "  0.         0.         0.13333333]\n",
      " [0.13333333 0.         0.         0.2        0.         0.\n",
      "  0.         0.         0.06666667 0.         0.33333333 0.\n",
      "  0.13333333 0.         0.13333333]]\n"
     ]
    }
   ],
   "source": [
    "# ok, this looks understandable\n",
    "print(np.array(ehs_distributions)[y_km==4][:10])"
   ]
  },
  {
   "cell_type": "code",
   "execution_count": 81,
   "metadata": {},
   "outputs": [
    {
     "name": "stdout",
     "output_type": "stream",
     "text": [
      "[[0.06666667 0.06666667 0.         0.46666667 0.         0.\n",
      "  0.         0.         0.06666667 0.         0.         0.06666667\n",
      "  0.         0.2        0.06666667]\n",
      " [0.         0.         0.         0.66666667 0.         0.\n",
      "  0.         0.         0.         0.         0.         0.\n",
      "  0.         0.33333333 0.        ]\n",
      " [0.         0.         0.         0.66666667 0.         0.\n",
      "  0.         0.         0.         0.         0.         0.\n",
      "  0.         0.33333333 0.        ]\n",
      " [0.         0.         0.         0.46666667 0.         0.\n",
      "  0.         0.         0.         0.         0.         0.06666667\n",
      "  0.         0.46666667 0.        ]\n",
      " [0.         0.         0.         0.53333333 0.         0.06666667\n",
      "  0.         0.         0.         0.         0.         0.06666667\n",
      "  0.         0.33333333 0.        ]\n",
      " [0.13333333 0.         0.         0.46666667 0.         0.\n",
      "  0.         0.         0.06666667 0.         0.         0.\n",
      "  0.         0.26666667 0.06666667]\n",
      " [0.         0.         0.         0.53333333 0.         0.\n",
      "  0.         0.         0.2        0.         0.06666667 0.06666667\n",
      "  0.         0.13333333 0.        ]\n",
      " [0.         0.         0.         0.46666667 0.         0.\n",
      "  0.         0.         0.06666667 0.         0.         0.\n",
      "  0.         0.4        0.06666667]\n",
      " [0.06666667 0.         0.         0.53333333 0.         0.\n",
      "  0.         0.         0.         0.         0.         0.\n",
      "  0.06666667 0.33333333 0.        ]\n",
      " [0.         0.06666667 0.         0.53333333 0.         0.\n",
      "  0.         0.         0.         0.         0.13333333 0.\n",
      "  0.         0.26666667 0.        ]]\n"
     ]
    }
   ],
   "source": [
    "# ok, this looks understandable\n",
    "print(np.array(ehs_distributions)[y_km==0][:10])"
   ]
  },
  {
   "cell_type": "code",
   "execution_count": 2,
   "metadata": {},
   "outputs": [],
   "source": [
    "import dill as pickle\n",
    "with open('data/information_abstraction.pkl', 'rb') as file:\n",
    "    data2 = pickle.load(file)"
   ]
  },
  {
   "cell_type": "code",
   "execution_count": 3,
   "metadata": {},
   "outputs": [
    {
     "data": {
      "text/plain": [
       "{'_cards': [<Card card=[3 of hearts ♥]>,\n",
       "  <Card card=[7 of diamonds ♦]>,\n",
       "  <Card card=[3 of spades ♠]>,\n",
       "  <Card card=[jack of clubs ♣]>,\n",
       "  <Card card=[9 of hearts ♥]>,\n",
       "  <Card card=[9 of spades ♠]>,\n",
       "  <Card card=[6 of spades ♠]>,\n",
       "  <Card card=[king of hearts ♥]>,\n",
       "  <Card card=[5 of hearts ♥]>,\n",
       "  <Card card=[8 of hearts ♥]>],\n",
       " '_evals': [139523,\n",
       "  2114829,\n",
       "  135427,\n",
       "  33589533,\n",
       "  8398611,\n",
       "  8394515,\n",
       "  1053707,\n",
       "  134228773,\n",
       "  533255,\n",
       "  4204049],\n",
       " '_evals_to_cards': {139523: <Card card=[3 of hearts ♥]>,\n",
       "  2114829: <Card card=[7 of diamonds ♦]>,\n",
       "  135427: <Card card=[3 of spades ♠]>,\n",
       "  33589533: <Card card=[jack of clubs ♣]>,\n",
       "  8398611: <Card card=[9 of hearts ♥]>,\n",
       "  8394515: <Card card=[9 of spades ♠]>,\n",
       "  1053707: <Card card=[6 of spades ♠]>,\n",
       "  134228773: <Card card=[king of hearts ♥]>,\n",
       "  533255: <Card card=[5 of hearts ♥]>,\n",
       "  4204049: <Card card=[8 of hearts ♥]>},\n",
       " 'starting_hands': array([[   139523,   2114829],\n",
       "        [   139523,    135427],\n",
       "        [   139523,  33589533],\n",
       "        [   139523,   8398611],\n",
       "        [   139523,   8394515],\n",
       "        [   139523,   1053707],\n",
       "        [   139523, 134228773],\n",
       "        [   139523,    533255],\n",
       "        [   139523,   4204049],\n",
       "        [  2114829,    135427],\n",
       "        [  2114829,  33589533],\n",
       "        [  2114829,   8398611],\n",
       "        [  2114829,   8394515],\n",
       "        [  2114829,   1053707],\n",
       "        [  2114829, 134228773],\n",
       "        [  2114829,    533255],\n",
       "        [  2114829,   4204049],\n",
       "        [   135427,  33589533],\n",
       "        [   135427,   8398611],\n",
       "        [   135427,   8394515],\n",
       "        [   135427,   1053707],\n",
       "        [   135427, 134228773],\n",
       "        [   135427,    533255],\n",
       "        [   135427,   4204049],\n",
       "        [ 33589533,   8398611],\n",
       "        [ 33589533,   8394515],\n",
       "        [ 33589533,   1053707],\n",
       "        [ 33589533, 134228773],\n",
       "        [ 33589533,    533255],\n",
       "        [ 33589533,   4204049],\n",
       "        [  8398611,   8394515],\n",
       "        [  8398611,   1053707],\n",
       "        [  8398611, 134228773],\n",
       "        [  8398611,    533255],\n",
       "        [  8398611,   4204049],\n",
       "        [  8394515,   1053707],\n",
       "        [  8394515, 134228773],\n",
       "        [  8394515,    533255],\n",
       "        [  8394515,   4204049],\n",
       "        [  1053707, 134228773],\n",
       "        [  1053707,    533255],\n",
       "        [  1053707,   4204049],\n",
       "        [134228773,    533255],\n",
       "        [134228773,   4204049],\n",
       "        [   533255,   4204049]]),\n",
       " 'flop': array([[   139523,   2114829,    135427,  33589533,   8398611],\n",
       "        [   139523,   2114829,    135427,  33589533,   8394515],\n",
       "        [   139523,   2114829,    135427,  33589533,   1053707],\n",
       "        ...,\n",
       "        [   533255,   4204049,   8398611,   8394515, 134228773],\n",
       "        [   533255,   4204049,   8398611,   1053707, 134228773],\n",
       "        [   533255,   4204049,   8394515,   1053707, 134228773]]),\n",
       " 'turn': array([[   139523,   2114829,    135427,  33589533,   8398611,   8394515],\n",
       "        [   139523,   2114829,    135427,  33589533,   8398611,   1053707],\n",
       "        [   139523,   2114829,    135427,  33589533,   8398611, 134228773],\n",
       "        ...,\n",
       "        [   533255,   4204049,   8394515,   1053707, 134228773,    135427],\n",
       "        [   533255,   4204049,   8394515,   1053707, 134228773,  33589533],\n",
       "        [   533255,   4204049,   8394515,   1053707, 134228773,   8398611]]),\n",
       " 'river': array([[   139523,   2114829,    135427, ...,   8398611,   8394515,\n",
       "           1053707],\n",
       "        [   139523,   2114829,    135427, ...,   8398611,   8394515,\n",
       "         134228773],\n",
       "        [   139523,   2114829,    135427, ...,   8398611,   8394515,\n",
       "            533255],\n",
       "        ...,\n",
       "        [   533255,   4204049,   8394515, ..., 134228773,   8398611,\n",
       "           2114829],\n",
       "        [   533255,   4204049,   8394515, ..., 134228773,   8398611,\n",
       "            135427],\n",
       "        [   533255,   4204049,   8394515, ..., 134228773,   8398611,\n",
       "          33589533]]),\n",
       " '_river_ehs': array([[0. , 1. , 0. ],\n",
       "        [0. , 1. , 0. ],\n",
       "        [0. , 1. , 0. ],\n",
       "        ...,\n",
       "        [0. , 1. , 0. ],\n",
       "        [1. , 0. , 0. ],\n",
       "        [0.4, 0.6, 0. ]]),\n",
       " '_river_centroids': array([[ 3.77747573e-01,  6.21844660e-01,  4.07766990e-04],\n",
       "        [ 8.07124619e-04,  9.99192875e-01,  1.74860126e-15],\n",
       "        [ 7.32357143e-01,  3.57142857e-04,  2.67285714e-01],\n",
       "        [ 1.45945946e-03,  6.21621622e-03,  9.92324324e-01],\n",
       "        [ 9.98858797e-01,  1.00888981e-03,  1.32313417e-04],\n",
       "        [ 1.66666667e-03,  3.46321839e-01,  6.52011494e-01],\n",
       "        [ 3.21739130e-01,  3.40057971e-01,  3.38202899e-01],\n",
       "        [ 2.67700831e-01,  7.32243767e-01,  5.54016620e-05],\n",
       "        [ 5.82602558e-01,  4.17185708e-01,  2.11733569e-04],\n",
       "        [ 6.21090909e-01,  5.09090909e-03,  3.73818182e-01],\n",
       "        [ 4.78011162e-01,  5.21237950e-01,  7.50887874e-04],\n",
       "        [ 3.17707006e-01,  4.58598726e-03,  6.77707006e-01],\n",
       "        [ 6.59700031e-01,  3.40189777e-01,  1.10192837e-04],\n",
       "        [ 5.14900398e-01,  5.09960159e-03,  4.80000000e-01],\n",
       "        [ 7.58155394e-01,  2.41844606e-01, -2.19962937e-15]]),\n",
       " '_river_clusters': array([1, 1, 1, ..., 1, 4, 0], dtype=int32),\n",
       " '_turn_ehs_distributions': array([[0. , 1. , 0. , ..., 0. , 0. , 0. ],\n",
       "        [0. , 0.6, 0. , ..., 0. , 0. , 0. ],\n",
       "        [0. , 0. , 0. , ..., 0. , 0. , 0.2],\n",
       "        ...,\n",
       "        [0. , 1. , 0. , ..., 0. , 0. , 0. ],\n",
       "        [0. , 0.6, 0. , ..., 0. , 0. , 0.2],\n",
       "        [0. , 0.6, 0. , ..., 0. , 0. , 0. ]]),\n",
       " '_turn_centroids': array([[ 0.00000000e+00,  6.03054807e-01,  0.00000000e+00,\n",
       "          4.13297394e-03,  0.00000000e+00,  2.21024259e-02,\n",
       "          7.18778077e-04,  3.34231806e-02,  3.28840970e-02,\n",
       "         -1.19262239e-18,  2.28212040e-02,  4.07906559e-02,\n",
       "          0.00000000e+00,  9.54097912e-18,  2.40071878e-01],\n",
       "        [ 0.00000000e+00,  5.04249292e-02,  0.00000000e+00,\n",
       "          1.52974504e-02,  0.00000000e+00,  1.03682720e-01,\n",
       "          3.68271955e-03,  6.62889518e-02,  4.57790368e-01,\n",
       "          2.83286119e-04,  4.13597734e-02,  1.19546742e-01,\n",
       "          0.00000000e+00,  2.83286119e-04,  1.41359773e-01],\n",
       "        [ 0.00000000e+00,  1.00000000e+00,  0.00000000e+00,\n",
       "         -3.53883589e-16,  0.00000000e+00, -3.78863607e-15,\n",
       "          5.94142791e-16,  6.34908792e-15, -2.42861287e-15,\n",
       "         -3.96817995e-17,  1.87003191e-15, -4.76008122e-15,\n",
       "          0.00000000e+00, -9.26992857e-17, -3.88578059e-15],\n",
       "        [ 0.00000000e+00,  4.11826087e-01,  0.00000000e+00,\n",
       "          5.91304348e-03,  0.00000000e+00,  2.60173913e-01,\n",
       "          1.73913043e-03,  6.19130435e-02,  8.10434783e-02,\n",
       "          3.47826087e-04,  3.16521739e-02,  7.13043478e-02,\n",
       "          0.00000000e+00,  1.39130435e-03,  7.26956522e-02],\n",
       "        [ 0.00000000e+00,  5.77319588e-02,  0.00000000e+00,\n",
       "          4.12371134e-03,  0.00000000e+00,  5.77319588e-02,\n",
       "          4.76288660e-01,  7.21649485e-02,  8.04123711e-02,\n",
       "          3.29896907e-02,  2.26804124e-02,  6.18556701e-02,\n",
       "          0.00000000e+00,  2.88659794e-02,  1.05154639e-01],\n",
       "        [ 0.00000000e+00,  3.63636364e-02,  0.00000000e+00,\n",
       "          0.00000000e+00,  0.00000000e+00, -6.93889390e-18,\n",
       "          8.36363636e-01,  0.00000000e+00,  0.00000000e+00,\n",
       "          1.81818182e-02,  1.81818182e-02,  5.45454545e-02,\n",
       "          0.00000000e+00,  0.00000000e+00,  3.63636364e-02],\n",
       "        [ 0.00000000e+00,  1.58019802e-01,  0.00000000e+00,\n",
       "          9.90099010e-03,  0.00000000e+00,  6.41584158e-02,\n",
       "          4.75247525e-03,  7.24752475e-02,  9.94059406e-02,\n",
       "          7.92079208e-04,  6.69306931e-02,  4.25346535e-01,\n",
       "          0.00000000e+00,  1.18811881e-03,  9.70297030e-02],\n",
       "        [ 0.00000000e+00,  6.34534535e-01,  0.00000000e+00,\n",
       "          2.40240240e-03,  0.00000000e+00,  2.37237237e-02,\n",
       "          3.00300300e-04,  2.35435435e-01,  3.99399399e-02,\n",
       "          3.14418630e-18,  2.19219219e-02,  3.66366366e-02,\n",
       "          0.00000000e+00,  8.23993651e-18,  5.10510511e-03],\n",
       "        [ 0.00000000e+00,  4.77192982e-01,  0.00000000e+00,\n",
       "         -6.93889390e-18,  0.00000000e+00,  2.10526316e-02,\n",
       "          3.47368421e-01,  7.01754386e-03,  1.75438596e-02,\n",
       "          1.75438596e-02,  2.45614035e-02,  2.80701754e-02,\n",
       "          0.00000000e+00,  3.85964912e-02,  2.10526316e-02],\n",
       "        [ 0.00000000e+00,  3.48804501e-01,  0.00000000e+00,\n",
       "          1.35021097e-02,  0.00000000e+00,  1.32208158e-02,\n",
       "          5.62587904e-04,  8.72011252e-02,  2.83544304e-01,\n",
       "          3.25260652e-18,  6.89170183e-02,  8.55133615e-02,\n",
       "          0.00000000e+00,  5.62587904e-04,  9.81715893e-02],\n",
       "        [ 0.00000000e+00,  7.32717949e-01,  0.00000000e+00,\n",
       "          8.61538462e-03,  0.00000000e+00,  7.30256410e-02,\n",
       "          2.25641026e-03, -8.04911693e-16,  1.43589744e-01,\n",
       "          3.46944695e-18,  3.91794872e-02, -9.43689571e-16,\n",
       "          0.00000000e+00,  6.15384615e-04,  4.30211422e-16],\n",
       "        [ 0.00000000e+00,  6.85496183e-01,  0.00000000e+00,\n",
       "          4.96183206e-03,  0.00000000e+00,  2.90076336e-02,\n",
       "          7.63358779e-04, -4.51028104e-16,  4.35114504e-02,\n",
       "          2.81892565e-18,  1.79389313e-02,  2.17938931e-01,\n",
       "          0.00000000e+00,  3.81679389e-04, -5.96744876e-16],\n",
       "        [ 0.00000000e+00,  9.49735450e-02,  0.00000000e+00,\n",
       "          1.37566138e-02,  0.00000000e+00,  3.13227513e-01,\n",
       "          3.70370370e-03,  1.15873016e-01,  1.32539683e-01,\n",
       "          1.32275132e-03,  8.51851852e-02,  1.18253968e-01,\n",
       "          0.00000000e+00,  1.32275132e-03,  1.19841270e-01],\n",
       "        [ 0.00000000e+00,  5.84946237e-02,  0.00000000e+00,\n",
       "          1.24731183e-02,  0.00000000e+00,  7.05376344e-02,\n",
       "          5.16129032e-03,  4.02150538e-01,  1.39784946e-01,\n",
       "          2.71050543e-18,  7.48387097e-02,  9.84946237e-02,\n",
       "          0.00000000e+00,  1.29032258e-03,  1.36774194e-01],\n",
       "        [ 0.00000000e+00,  7.39059968e-02,  0.00000000e+00,\n",
       "          1.03727715e-02,  0.00000000e+00,  1.12803890e-01,\n",
       "          4.53808752e-03,  8.16855754e-02,  9.65964344e-02,\n",
       "          3.03576608e-18,  5.15397083e-02,  1.08589951e-01,\n",
       "          0.00000000e+00,  6.48298217e-04,  4.59319287e-01]]),\n",
       " '_turn_clusters': array([ 2, 10, 13, ...,  2,  0, 10], dtype=int32),\n",
       " '_flop_potential_aware_distributions': array([[0. , 0. , 0.2, ..., 0.2, 0.4, 0. ],\n",
       "        [0. , 0. , 0.6, ..., 0. , 0. , 0. ],\n",
       "        [0. , 0. , 0. , ..., 0. , 0.2, 0. ],\n",
       "        ...,\n",
       "        [0. , 0. , 0.2, ..., 0. , 0.2, 0. ],\n",
       "        [0. , 0. , 0.8, ..., 0. , 0. , 0. ],\n",
       "        [0. , 0. , 0.2, ..., 0. , 0. , 0. ]]),\n",
       " '_flop_centroids': array([[ 1.79856115e-02,  0.00000000e+00,  6.58992806e-01,\n",
       "          0.00000000e+00,  0.00000000e+00,  0.00000000e+00,\n",
       "          0.00000000e+00,  0.00000000e+00,  2.01438849e-02,\n",
       "          0.00000000e+00,  0.00000000e+00,  2.64748201e-01,\n",
       "          5.75539568e-03,  3.23741007e-02,  0.00000000e+00],\n",
       "        [ 1.41176471e-02,  0.00000000e+00,  3.05882353e-02,\n",
       "          0.00000000e+00,  0.00000000e+00,  0.00000000e+00,\n",
       "          0.00000000e+00,  0.00000000e+00,  2.48235294e-01,\n",
       "          0.00000000e+00,  0.00000000e+00,  2.71764706e-01,\n",
       "          3.52941176e-02,  4.00000000e-01,  0.00000000e+00],\n",
       "        [ 6.40776699e-02,  0.00000000e+00,  5.43689320e-02,\n",
       "          0.00000000e+00,  0.00000000e+00,  0.00000000e+00,\n",
       "          0.00000000e+00,  0.00000000e+00,  4.89320388e-01,\n",
       "          0.00000000e+00,  0.00000000e+00,  9.90291262e-02,\n",
       "          6.99029126e-02,  2.23300971e-01,  0.00000000e+00],\n",
       "        [ 4.04255319e-02,  0.00000000e+00,  1.02127660e-01,\n",
       "          0.00000000e+00,  0.00000000e+00,  0.00000000e+00,\n",
       "          0.00000000e+00,  0.00000000e+00,  2.00000000e-01,\n",
       "          0.00000000e+00,  0.00000000e+00,  3.85106383e-01,\n",
       "          9.14893617e-02,  1.80851064e-01,  0.00000000e+00],\n",
       "        [ 3.22033898e-02,  0.00000000e+00,  3.72881356e-02,\n",
       "          0.00000000e+00,  0.00000000e+00,  0.00000000e+00,\n",
       "          0.00000000e+00,  0.00000000e+00,  1.93220339e-01,\n",
       "          0.00000000e+00,  0.00000000e+00, -6.10622664e-16,\n",
       "          5.76271186e-02,  6.79661017e-01,  0.00000000e+00],\n",
       "        [ 2.27272727e-02,  0.00000000e+00,  8.05194805e-02,\n",
       "          0.00000000e+00,  0.00000000e+00,  0.00000000e+00,\n",
       "          0.00000000e+00,  0.00000000e+00,  7.27272727e-02,\n",
       "          0.00000000e+00,  0.00000000e+00,  6.95454545e-01,\n",
       "          2.53246753e-02,  1.03246753e-01,  0.00000000e+00],\n",
       "        [ 5.10067114e-02,  0.00000000e+00,  8.85906040e-02,\n",
       "          0.00000000e+00,  0.00000000e+00,  0.00000000e+00,\n",
       "          0.00000000e+00,  0.00000000e+00, -1.52655666e-16,\n",
       "          0.00000000e+00,  0.00000000e+00,  4.32214765e-01,\n",
       "          7.24832215e-02,  3.55704698e-01,  0.00000000e+00],\n",
       "        [ 7.32394366e-02,  0.00000000e+00,  3.62441315e-01,\n",
       "          0.00000000e+00,  0.00000000e+00,  0.00000000e+00,\n",
       "          0.00000000e+00,  0.00000000e+00,  4.60093897e-02,\n",
       "          0.00000000e+00,  0.00000000e+00,  4.68544601e-01,\n",
       "          1.12676056e-02,  3.84976526e-02,  0.00000000e+00],\n",
       "        [ 4.43622921e-03,  0.00000000e+00,  9.84842884e-01,\n",
       "          0.00000000e+00,  0.00000000e+00,  0.00000000e+00,\n",
       "          0.00000000e+00,  0.00000000e+00,  4.06654344e-03,\n",
       "          0.00000000e+00,  0.00000000e+00, -7.77156117e-16,\n",
       "          7.39371534e-04,  5.91497227e-03,  0.00000000e+00],\n",
       "        [ 3.84180791e-02,  0.00000000e+00,  4.32768362e-01,\n",
       "          0.00000000e+00,  0.00000000e+00,  0.00000000e+00,\n",
       "          0.00000000e+00,  0.00000000e+00,  1.02824859e-01,\n",
       "          0.00000000e+00,  0.00000000e+00,  1.10734463e-01,\n",
       "          4.74576271e-02,  2.67796610e-01,  0.00000000e+00],\n",
       "        [ 1.80451128e-02,  0.00000000e+00,  1.65413534e-02,\n",
       "          0.00000000e+00,  0.00000000e+00,  0.00000000e+00,\n",
       "          0.00000000e+00,  0.00000000e+00,  7.36842105e-02,\n",
       "          0.00000000e+00,  0.00000000e+00,  2.46616541e-01,\n",
       "          2.10526316e-02,  6.24060150e-01,  0.00000000e+00],\n",
       "        [ 6.51162791e-02,  0.00000000e+00,  1.39534884e-02,\n",
       "          0.00000000e+00,  0.00000000e+00,  0.00000000e+00,\n",
       "          0.00000000e+00,  0.00000000e+00,  0.00000000e+00,\n",
       "          0.00000000e+00,  0.00000000e+00,  1.90697674e-01,\n",
       "          4.23255814e-01,  3.06976744e-01,  0.00000000e+00],\n",
       "        [ 2.90322581e-01,  0.00000000e+00,  1.38709677e-01,\n",
       "          0.00000000e+00,  0.00000000e+00,  0.00000000e+00,\n",
       "          0.00000000e+00,  0.00000000e+00,  1.09677419e-01,\n",
       "          0.00000000e+00,  0.00000000e+00,  1.61290323e-01,\n",
       "          6.77419355e-02,  2.32258065e-01,  0.00000000e+00],\n",
       "        [ 1.81818182e-02,  0.00000000e+00,  8.48484848e-02,\n",
       "          0.00000000e+00,  0.00000000e+00,  0.00000000e+00,\n",
       "          0.00000000e+00,  0.00000000e+00,  4.18181818e-01,\n",
       "          0.00000000e+00,  0.00000000e+00,  4.02020202e-01,\n",
       "          2.22222222e-02,  5.45454545e-02,  0.00000000e+00],\n",
       "        [ 2.50000000e-02,  0.00000000e+00,  3.12500000e-02,\n",
       "          0.00000000e+00,  0.00000000e+00,  0.00000000e+00,\n",
       "          0.00000000e+00,  0.00000000e+00,  2.56250000e-01,\n",
       "          0.00000000e+00,  0.00000000e+00,  7.50000000e-02,\n",
       "          4.18750000e-01,  1.93750000e-01,  0.00000000e+00]]),\n",
       " '_flop_clusters': array([ 6,  0, 13, ...,  3,  0,  5], dtype=int32)}"
      ]
     },
     "execution_count": 3,
     "metadata": {},
     "output_type": "execute_result"
    }
   ],
   "source": [
    "data2"
   ]
  },
  {
   "cell_type": "code",
   "execution_count": 16,
   "metadata": {},
   "outputs": [
    {
     "ename": "KeyError",
     "evalue": "0.2",
     "output_type": "error",
     "traceback": [
      "\u001b[0;31m---------------------------------------------------------------------------\u001b[0m",
      "\u001b[0;31mKeyError\u001b[0m                                  Traceback (most recent call last)",
      "\u001b[0;32m<ipython-input-16-a6520732b8b9>\u001b[0m in \u001b[0;36m<module>\u001b[0;34m\u001b[0m\n\u001b[1;32m      3\u001b[0m \u001b[0;31m# taking a look at them\u001b[0m\u001b[0;34m\u001b[0m\u001b[0;34m\u001b[0m\u001b[0;34m\u001b[0m\u001b[0m\n\u001b[1;32m      4\u001b[0m \u001b[0;32mfor\u001b[0m \u001b[0mgames\u001b[0m \u001b[0;32min\u001b[0m \u001b[0mcompare_hands\u001b[0m\u001b[0;34m:\u001b[0m\u001b[0;34m\u001b[0m\u001b[0;34m\u001b[0m\u001b[0m\n\u001b[0;32m----> 5\u001b[0;31m     \u001b[0mt\u001b[0m \u001b[0;34m=\u001b[0m \u001b[0;34m[\u001b[0m\u001b[0mdata2\u001b[0m\u001b[0;34m[\u001b[0m\u001b[0;34m'_evals_to_cards'\u001b[0m\u001b[0;34m]\u001b[0m\u001b[0;34m[\u001b[0m\u001b[0mx\u001b[0m\u001b[0;34m]\u001b[0m \u001b[0;32mfor\u001b[0m \u001b[0mx\u001b[0m \u001b[0;32min\u001b[0m \u001b[0mgames\u001b[0m\u001b[0;34m.\u001b[0m\u001b[0mtolist\u001b[0m\u001b[0;34m(\u001b[0m\u001b[0;34m)\u001b[0m\u001b[0;34m[\u001b[0m\u001b[0;34m:\u001b[0m\u001b[0;36m2\u001b[0m\u001b[0;34m]\u001b[0m\u001b[0;34m]\u001b[0m\u001b[0;34m\u001b[0m\u001b[0;34m\u001b[0m\u001b[0m\n\u001b[0m\u001b[1;32m      6\u001b[0m     \u001b[0mprint\u001b[0m\u001b[0;34m(\u001b[0m\u001b[0;34m\"####Hand\"\u001b[0m\u001b[0;34m)\u001b[0m\u001b[0;34m\u001b[0m\u001b[0;34m\u001b[0m\u001b[0m\n\u001b[1;32m      7\u001b[0m     \u001b[0mprint\u001b[0m\u001b[0;34m(\u001b[0m\u001b[0mt\u001b[0m\u001b[0;34m)\u001b[0m\u001b[0;34m\u001b[0m\u001b[0;34m\u001b[0m\u001b[0m\n",
      "\u001b[0;32m<ipython-input-16-a6520732b8b9>\u001b[0m in \u001b[0;36m<listcomp>\u001b[0;34m(.0)\u001b[0m\n\u001b[1;32m      3\u001b[0m \u001b[0;31m# taking a look at them\u001b[0m\u001b[0;34m\u001b[0m\u001b[0;34m\u001b[0m\u001b[0;34m\u001b[0m\u001b[0m\n\u001b[1;32m      4\u001b[0m \u001b[0;32mfor\u001b[0m \u001b[0mgames\u001b[0m \u001b[0;32min\u001b[0m \u001b[0mcompare_hands\u001b[0m\u001b[0;34m:\u001b[0m\u001b[0;34m\u001b[0m\u001b[0;34m\u001b[0m\u001b[0m\n\u001b[0;32m----> 5\u001b[0;31m     \u001b[0mt\u001b[0m \u001b[0;34m=\u001b[0m \u001b[0;34m[\u001b[0m\u001b[0mdata2\u001b[0m\u001b[0;34m[\u001b[0m\u001b[0;34m'_evals_to_cards'\u001b[0m\u001b[0;34m]\u001b[0m\u001b[0;34m[\u001b[0m\u001b[0mx\u001b[0m\u001b[0;34m]\u001b[0m \u001b[0;32mfor\u001b[0m \u001b[0mx\u001b[0m \u001b[0;32min\u001b[0m \u001b[0mgames\u001b[0m\u001b[0;34m.\u001b[0m\u001b[0mtolist\u001b[0m\u001b[0;34m(\u001b[0m\u001b[0;34m)\u001b[0m\u001b[0;34m[\u001b[0m\u001b[0;34m:\u001b[0m\u001b[0;36m2\u001b[0m\u001b[0;34m]\u001b[0m\u001b[0;34m]\u001b[0m\u001b[0;34m\u001b[0m\u001b[0;34m\u001b[0m\u001b[0m\n\u001b[0m\u001b[1;32m      6\u001b[0m     \u001b[0mprint\u001b[0m\u001b[0;34m(\u001b[0m\u001b[0;34m\"####Hand\"\u001b[0m\u001b[0;34m)\u001b[0m\u001b[0;34m\u001b[0m\u001b[0;34m\u001b[0m\u001b[0m\n\u001b[1;32m      7\u001b[0m     \u001b[0mprint\u001b[0m\u001b[0;34m(\u001b[0m\u001b[0mt\u001b[0m\u001b[0;34m)\u001b[0m\u001b[0;34m\u001b[0m\u001b[0;34m\u001b[0m\u001b[0m\n",
      "\u001b[0;31mKeyError\u001b[0m: 0.2"
     ]
    }
   ],
   "source": [
    "import random\n",
    "compare_hands = random.sample(list(data2['_flop_potential_aware_distributions'][data2['_flop_clusters']==0]), 5)\n",
    "# taking a look at them\n",
    "for games in compare_hands:\n",
    "    t = [data2['_evals_to_cards'][x] for x in games.tolist()[:2]]\n",
    "    print(\"####Hand\")\n",
    "    print(t)\n",
    "    t = [data2['_evals_to_cards'][x] for x in games.tolist()[2:]]\n",
    "    print(\"####Board\")\n",
    "    print(t)"
   ]
  },
  {
   "cell_type": "code",
   "execution_count": 17,
   "metadata": {},
   "outputs": [],
   "source": [
    "import math"
   ]
  },
  {
   "cell_type": "code",
   "execution_count": 18,
   "metadata": {},
   "outputs": [],
   "source": [
    "def ncr(n,r):\n",
    "    \"\"\"\n",
    "    helper function for calculating combination size\n",
    "    n choose r\"\"\"\n",
    "    return int(math.factorial(n)/(math.factorial(r)*math.factorial(n-r)))"
   ]
  },
  {
   "cell_type": "code",
   "execution_count": 19,
   "metadata": {},
   "outputs": [
    {
     "data": {
      "text/plain": [
       "54145000"
      ]
     },
     "execution_count": 19,
     "metadata": {},
     "output_type": "execute_result"
    }
   ],
   "source": [
    "ncr(52,3)*ncr(50,1)*ncr(49,1)"
   ]
  },
  {
   "cell_type": "code",
   "execution_count": 20,
   "metadata": {},
   "outputs": [
    {
     "data": {
      "text/plain": [
       "1.8468926031951242e-08"
      ]
     },
     "execution_count": 20,
     "metadata": {},
     "output_type": "execute_result"
    }
   ],
   "source": [
    "1/54145000"
   ]
  },
  {
   "cell_type": "code",
   "execution_count": null,
   "metadata": {},
   "outputs": [],
   "source": []
  }
 ],
 "metadata": {
  "kernelspec": {
   "display_name": "poker",
   "language": "python",
   "name": "poker"
  },
  "language_info": {
   "codemirror_mode": {
    "name": "ipython",
    "version": 3
   },
   "file_extension": ".py",
   "mimetype": "text/x-python",
   "name": "python",
   "nbconvert_exporter": "python",
   "pygments_lexer": "ipython3",
   "version": "3.7.1"
  }
 },
 "nbformat": 4,
 "nbformat_minor": 4
}
