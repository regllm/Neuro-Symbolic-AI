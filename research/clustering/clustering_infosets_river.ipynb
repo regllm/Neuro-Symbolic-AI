{
 "cells": [
  {
   "cell_type": "code",
   "execution_count": 2,
   "metadata": {},
   "outputs": [],
   "source": [
    "from pluribus.game.deck import Deck\n",
    "from pluribus.game.evaluation import Evaluator\n",
    "import numpy as np\n",
    "from itertools import combinations\n",
    "import math\n",
    "import random\n",
    "import time\n",
    "import dill as pickle\n",
    "#import logging\n",
    "#logger = logging.getLogger('matplotlib')\n",
    "\n",
    "import matplotlib.pyplot as plt;"
   ]
  },
  {
   "cell_type": "code",
   "execution_count": 3,
   "metadata": {},
   "outputs": [],
   "source": [
    "deck = Deck()\n",
    "deck.shuffle()\n",
    "# store as eval for faster evaluation\n",
    "short_deck = [c.eval_card for c in deck[:10]]\n",
    "eval_to_card = {i.eval_card:i for i in deck[:10]}\n",
    "evaluator = Evaluator()"
   ]
  },
  {
   "cell_type": "code",
   "execution_count": 4,
   "metadata": {},
   "outputs": [],
   "source": [
    "# need to figure out lossless for the deck, will substantially reduce combos: https://poker.cs.ualberta.ca/publications/2013-techreport-nl-size.pdf\n",
    "# need to figure out how to efficeintly store these combos to get ehs\n",
    "# do they use lossless even for bucketing?"
   ]
  },
  {
   "cell_type": "code",
   "execution_count": 5,
   "metadata": {},
   "outputs": [],
   "source": [
    "def get_card_combos(num_cards, cards):\n",
    "    \"\"\"\n",
    "    return combos of cards (Card.eval_card)\n",
    "    \"\"\"\n",
    "    # most performant I could find so far\n",
    "    return np.asarray(list(combinations(cards, num_cards)))"
   ]
  },
  {
   "cell_type": "code",
   "execution_count": 6,
   "metadata": {},
   "outputs": [],
   "source": [
    "starting_hands = get_card_combos(2, short_deck)"
   ]
  },
  {
   "cell_type": "code",
   "execution_count": 7,
   "metadata": {},
   "outputs": [],
   "source": [
    "flops = get_card_combos(3, short_deck)"
   ]
  },
  {
   "cell_type": "code",
   "execution_count": 8,
   "metadata": {},
   "outputs": [],
   "source": [
    "turns_rivers = get_card_combos(1, short_deck)"
   ]
  },
  {
   "cell_type": "code",
   "execution_count": 9,
   "metadata": {},
   "outputs": [],
   "source": [
    "# will not be good for whole deck, how to make better?\n",
    "# thinking it's best to store as the first x, where x = starting hand plus community amount \n",
    "# then sample cards not in those for the opponent hand/turn & river\n",
    "# would be nice to store those as well perhaps?\n",
    "def create_card_combos(start_publics, add_publics):\n",
    "    our_cards = []\n",
    "    for start_public in start_publics:\n",
    "        for add_public in add_publics:\n",
    "            # skip if our any of previous cards are in the new ones\n",
    "            if not np.any(np.isin(start_public, add_public)):\n",
    "                # not np.any(np.isin(start_public, add_public)):\n",
    "                our_cards.append(np.concatenate((start_public, add_public)))\n",
    "    return np.array(our_cards)"
   ]
  },
  {
   "cell_type": "code",
   "execution_count": 10,
   "metadata": {},
   "outputs": [],
   "source": [
    "on_flop = create_card_combos(starting_hands, flops)"
   ]
  },
  {
   "cell_type": "code",
   "execution_count": 11,
   "metadata": {},
   "outputs": [],
   "source": [
    "on_turn = create_card_combos(on_flop, turns_rivers)"
   ]
  },
  {
   "cell_type": "code",
   "execution_count": 12,
   "metadata": {},
   "outputs": [],
   "source": [
    "on_river = create_card_combos(on_turn, turns_rivers)"
   ]
  },
  {
   "cell_type": "code",
   "execution_count": 13,
   "metadata": {},
   "outputs": [],
   "source": [
    "# check combos correct "
   ]
  },
  {
   "cell_type": "code",
   "execution_count": 14,
   "metadata": {},
   "outputs": [],
   "source": [
    "def ncr(n,r):\n",
    "    \"\"\"\n",
    "    helper function for calculating combination size\n",
    "    n choose r\"\"\"\n",
    "    return int(math.factorial(n)/(math.factorial(r)*math.factorial(n-r)))"
   ]
  },
  {
   "cell_type": "code",
   "execution_count": 15,
   "metadata": {},
   "outputs": [
    {
     "name": "stdout",
     "output_type": "stream",
     "text": [
      "expected river: 50400\n"
     ]
    }
   ],
   "source": [
    "print(f'expected river: {ncr(10,2)*ncr(8,3)*ncr(5,1)*ncr(4,1)}')"
   ]
  },
  {
   "cell_type": "code",
   "execution_count": 16,
   "metadata": {},
   "outputs": [
    {
     "name": "stdout",
     "output_type": "stream",
     "text": [
      "my combos: 50400\n"
     ]
    }
   ],
   "source": [
    "print(f'my combos: {len(on_river)}')"
   ]
  },
  {
   "cell_type": "code",
   "execution_count": 17,
   "metadata": {},
   "outputs": [],
   "source": [
    "ehss = [0]*len(on_river) # statts for expected hand strengths"
   ]
  },
  {
   "cell_type": "code",
   "execution_count": 18,
   "metadata": {},
   "outputs": [],
   "source": [
    "# get data for expected hand rates on 5 card public board, not lossless"
   ]
  },
  {
   "cell_type": "code",
   "execution_count": 19,
   "metadata": {},
   "outputs": [
    {
     "name": "stdout",
     "output_type": "stream",
     "text": [
      "149.98889684677124\n"
     ]
    }
   ],
   "source": [
    "# even with lossless, we are looking at a lot of simulations.. hhow can we do this better? \n",
    "start = time.time()\n",
    "for i, public in enumerate(on_river): \n",
    "    available_cards = [x for x in short_deck if x not in public]\n",
    "    ehs = [0]*3\n",
    "    for j in range(25): # probably want to increase this number?\n",
    "        opp_hand = random.sample(available_cards, 2) # going to run into the same hand combos..\n",
    "        our_hand = list(public[:2])\n",
    "        board = list(public[2:7])\n",
    "        our_hand_rank = evaluator.evaluate(\n",
    "            board=board, # should this accept numpy array?\n",
    "            cards=our_hand,\n",
    "        )\n",
    "        opp_hand_rank = evaluator.evaluate(\n",
    "                board=board,\n",
    "                cards=opp_hand,\n",
    "        )\n",
    "        if our_hand_rank > opp_hand_rank: # maybe some mod magic here\n",
    "            idx = 0\n",
    "        elif our_hand_rank < opp_hand_rank:\n",
    "            idx = 1\n",
    "        elif our_hand_rank == opp_hand_rank:\n",
    "            idx = 2\n",
    "        ehs[idx] += 1/25\n",
    "    ehss[i] = ehs\n",
    "end = time.time()\n",
    "print(end - start)"
   ]
  },
  {
   "cell_type": "code",
   "execution_count": 20,
   "metadata": {},
   "outputs": [],
   "source": [
    "# simple kmeans algo - should I write from scratch?\n",
    "# you might need to adjust the centers number since the deck is being shuffled if \n",
    "# you run it from the top, but you can also get the data out of the data folder\n",
    "# no more than 20 clusters or graph won't work below, FYI\n",
    "from sklearn.cluster import KMeans\n",
    "\n",
    "X=np.array(ehss)\n",
    "\n",
    "km = KMeans(\n",
    "    n_clusters=15, init='random',\n",
    "    n_init=10, max_iter=300, \n",
    "    tol=1e-04, random_state=0\n",
    ")\n",
    "y_km = km.fit_predict(X)"
   ]
  },
  {
   "cell_type": "code",
   "execution_count": 21,
   "metadata": {},
   "outputs": [],
   "source": [
    "# centers to be used to get data for EMD\n",
    "centroids = km.cluster_centers_"
   ]
  },
  {
   "cell_type": "code",
   "execution_count": 30,
   "metadata": {},
   "outputs": [],
   "source": [
    "data = {\n",
    "    'ehss_river': ehss,\n",
    "    'short_deck': short_deck,\n",
    "    'combos': [on_flop, on_turn, on_river],\n",
    "    'river_centroids': centroids,\n",
    "    'eval_to_card': eval_to_card\n",
    "}"
   ]
  },
  {
   "cell_type": "code",
   "execution_count": 31,
   "metadata": {},
   "outputs": [],
   "source": [
    "with open('data/ehss_river.pkl', 'wb') as file:\n",
    "    pickle.dump(data, file)"
   ]
  },
  {
   "cell_type": "code",
   "execution_count": 24,
   "metadata": {},
   "outputs": [],
   "source": [
    "# # to reopen\n",
    "# with open('data/ehss_river.pkl', 'rb') as file:\n",
    "#     data = pickle.load(file)"
   ]
  },
  {
   "cell_type": "code",
   "execution_count": 25,
   "metadata": {},
   "outputs": [],
   "source": [
    "compare_hands = random.sample(list(on_river[y_km==4]), 5)"
   ]
  },
  {
   "cell_type": "code",
   "execution_count": 26,
   "metadata": {},
   "outputs": [
    {
     "name": "stdout",
     "output_type": "stream",
     "text": [
      "####Hand\n",
      "[<Card card=[jack of clubs ♣]>, <Card card=[2 of clubs ♣]>]\n",
      "####Board\n",
      "[<Card card=[2 of diamonds ♦]>, <Card card=[5 of spades ♠]>, <Card card=[5 of diamonds ♦]>, <Card card=[3 of diamonds ♦]>, <Card card=[ace of diamonds ♦]>]\n",
      "####Hand\n",
      "[<Card card=[5 of diamonds ♦]>, <Card card=[6 of hearts ♥]>]\n",
      "####Board\n",
      "[<Card card=[2 of spades ♠]>, <Card card=[jack of clubs ♣]>, <Card card=[ace of diamonds ♦]>, <Card card=[7 of diamonds ♦]>, <Card card=[2 of diamonds ♦]>]\n",
      "####Hand\n",
      "[<Card card=[jack of clubs ♣]>, <Card card=[3 of diamonds ♦]>]\n",
      "####Board\n",
      "[<Card card=[2 of diamonds ♦]>, <Card card=[2 of spades ♠]>, <Card card=[ace of diamonds ♦]>, <Card card=[5 of diamonds ♦]>, <Card card=[5 of spades ♠]>]\n",
      "####Hand\n",
      "[<Card card=[2 of clubs ♣]>, <Card card=[3 of diamonds ♦]>]\n",
      "####Board\n",
      "[<Card card=[2 of spades ♠]>, <Card card=[5 of spades ♠]>, <Card card=[5 of diamonds ♦]>, <Card card=[6 of hearts ♥]>, <Card card=[jack of clubs ♣]>]\n",
      "####Hand\n",
      "[<Card card=[5 of spades ♠]>, <Card card=[2 of clubs ♣]>]\n",
      "####Board\n",
      "[<Card card=[3 of diamonds ♦]>, <Card card=[7 of diamonds ♦]>, <Card card=[ace of diamonds ♦]>, <Card card=[jack of clubs ♣]>, <Card card=[2 of diamonds ♦]>]\n"
     ]
    }
   ],
   "source": [
    "# taking a look at them\n",
    "for games in compare_hands:\n",
    "    t = [eval_to_card[x] for x in games.tolist()[:2]]\n",
    "    print(\"####Hand\")\n",
    "    print(t)\n",
    "    t = [eval_to_card[x] for x in games.tolist()[2:]]\n",
    "    print(\"####Board\")\n",
    "    print(t)"
   ]
  },
  {
   "cell_type": "code",
   "execution_count": 27,
   "metadata": {},
   "outputs": [],
   "source": [
    "# colors for plotting\n",
    "colors = {\n",
    "    0:'y', \n",
    "    1:'b', \n",
    "    2:'g',\n",
    "    3:'r', \n",
    "    4:'c', \n",
    "    5:'m',\n",
    "    6:'y', \n",
    "    7:'b', \n",
    "    8:'w',\n",
    "    9:'#7A68A6',\n",
    "    10:'#FFB5B8',\n",
    "    11:'#fdb462',\n",
    "    12:'#8b8b8b',\n",
    "    13:'#bc82bd',\n",
    "    14:'#8EBA42',\n",
    "    15:'#467821',\n",
    "    16:'#fdb462',\n",
    "    17:'#30a2da',\n",
    "    18:'#cbcbcb',\n",
    "    19:'#b3de69',\n",
    "    20:'#30a2da'\n",
    "}"
   ]
  },
  {
   "cell_type": "code",
   "execution_count": 29,
   "metadata": {},
   "outputs": [
    {
     "data": {
      "image/png": "[encoded data removed]",
      "text/plain": [
       "<Figure size 432x288 with 1 Axes>"
      ]
     },
     "metadata": {
      "needs_background": "light"
     },
     "output_type": "display_data"
    }
   ],
   "source": [
    "# a cute graph\n",
    "from mpl_toolkits.mplot3d import Axes3D  # noqa: F401 unused import\n",
    "\n",
    "fig = plt.figure()\n",
    "ax = fig.add_subplot(111, projection='3d')\n",
    "\n",
    "for m, zlow, zhigh in [('o', -50, -25), ('^', -30, -5)]:\n",
    "    # plot the centroids   \n",
    "    for i in range(20):\n",
    "        ax.scatter(\n",
    "        X[y_km==i, 0], X[y_km==i, 2], X[y_km==i, 1],\n",
    "        s=20, marker='o',\n",
    "        c=colors[i])\n",
    "    \n",
    "ax.set_zlim(0, 1)\n",
    "ax.set_ylim(0, 1)\n",
    "ax.set_xlim(0, 1)\n",
    "\n",
    "ax.set_xlabel('X Label')\n",
    "ax.set_ylabel('Y Label')\n",
    "ax.set_zlabel('Z Label')\n",
    "\n",
    "plt.show()"
   ]
  },
  {
   "cell_type": "code",
   "execution_count": null,
   "metadata": {},
   "outputs": [],
   "source": [
    "# it's possible the authors ONLY used expected hand strength of the wins: https://poker.cs.ualberta.ca/publications/AAMAS13-abstraction.pdf\n",
    "# we could try both and see what does better, might have to do just ehs for 6 player game"
   ]
  }
 ],
 "metadata": {
  "kernelspec": {
   "display_name": "poker",
   "language": "python",
   "name": "poker"
  },
  "language_info": {
   "codemirror_mode": {
    "name": "ipython",
    "version": 3
   },
   "file_extension": ".py",
   "mimetype": "text/x-python",
   "name": "python",
   "nbconvert_exporter": "python",
   "pygments_lexer": "ipython3",
   "version": "3.7.1"
  }
 },
 "nbformat": 4,
 "nbformat_minor": 4
}
